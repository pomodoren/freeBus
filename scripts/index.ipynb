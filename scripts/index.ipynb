{
 "cells": [
  {
   "cell_type": "markdown",
   "metadata": {},
   "source": [
    "<div style=\"float: right;\">\n",
    "\n",
    "<a href=\"https://pomodoren.github.io/open-labs\" style=\"color:teal\">pomodoren/open-labs</a> \n",
    "</div>\n",
    "\n",
    "## <span style=\"color:teal;font-weight:bold;\">OSM-generated PT Info </span>\n",
    "\n",
    "\n",
    "- **2024.01**: Public Transport Information of Durres \n",
    "  - <a href=\"results/websites/durres/index.html\" style=\"color:teal\">Web</a>\n",
    "  - <a href=\"https://github.com/pomodoren/osm-generated-pt-info/tree/main/data/durres\" style=\"color:teal\">Config files</a>\n",
    "  - <a href=\"https://github.com/pomodoren/osm-generated-pt-info/tree/main/results\" style=\"color:teal\">partial-GTFS</a>\n",
    "- **2024.01**: Public Transport Information of Prishtina \n",
    "  - <a href=\"results/websites/prishtina/index.html\" style=\"color:teal\">Web</a>\n",
    "  - <a href=\"https://github.com/pomodoren/osm-generated-pt-info/tree/main/data/prishtina\" style=\"color:teal\">Config files</a>\n",
    "  - <a href=\"https://github.com/pomodoren/osm-generated-pt-info/tree/main/results\" style=\"color:teal\">partial-GTFS</a>\n",
    "- **2024.01**: Public Transport Information of Tirana\n",
    "  - <a href=\"results/websites/tirana/index.html\" style=\"color:teal\">Web</a>\n",
    "  - <a href=\"https://github.com/pomodoren/osm-generated-pt-info/tree/main/data/tirana\" style=\"color:teal\">Config files</a>\n",
    "  - <a href=\"https://github.com/pomodoren/osm-generated-pt-info/tree/main/results\" style=\"color:teal\">partial-GTFS</a>\n",
    "- **2023.12**: Example usage for Esteli\n",
    "  - <a href=\"results/websites/esteli-routes-example/index.html\" style=\"color:teal\">Web</a>\n",
    "\n",
    " \n",
    "<br><br>\n",
    "\n",
    "<a href=\"https://github.com/pomodoren/osm-generated-pt-info\" style=\"color:teal\">Find code @github</a>  \n",
    "*This is a proof of concept, data to be validated for actual daily usage.*"
   ]
  }
 ],
 "metadata": {
  "kernelspec": {
   "display_name": "Python 3 (ipykernel)",
   "language": "python",
   "name": "python3"
  },
  "language_info": {
   "name": "python"
  }
 },
 "nbformat": 4,
 "nbformat_minor": 2
}
